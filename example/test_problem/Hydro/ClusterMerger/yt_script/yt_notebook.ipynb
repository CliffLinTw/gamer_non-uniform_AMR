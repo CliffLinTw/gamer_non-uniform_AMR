{
 "cells": [
  {
   "cell_type": "markdown",
   "metadata": {},
   "source": [
    "# GAMER Cluster Merger Problem yt analysis\n",
    "\n",
    "This Jupyter notebook shows a quick review of the features of the `ClusterMerger` problem in GAMER using yt."
   ]
  },
  {
   "cell_type": "code",
   "execution_count": null,
   "metadata": {},
   "outputs": [],
   "source": [
    "import yt"
   ]
  },
  {
   "cell_type": "markdown",
   "metadata": {},
   "source": [
    "The `ClusterMerger` problem adds a particle attribute, `ParType`, to distinguish between DM and star particles (so far the particle types are otherwise identical, this attribute is only here to distinguish their spatial distributions. We can use this attribute to create new particle types like this, using particle filters: "
   ]
  },
  {
   "cell_type": "code",
   "execution_count": null,
   "metadata": {},
   "outputs": [],
   "source": [
    "@yt.particle_filter(requires=[\"ParType\"], filtered_type='io')\n",
    "def dm(pfilter, data):\n",
    "   dfilter = data[(pfilter.filtered_type, \"ParType\")] == 1\n",
    "   return dfilter\n",
    "\n",
    "@yt.particle_filter(requires=[\"ParType\"], filtered_type='io')\n",
    "def star(pfilter, data):\n",
    "   sfilter = data[(pfilter.filtered_type, \"ParType\")] == 2\n",
    "   return sfilter"
   ]
  },
  {
   "cell_type": "markdown",
   "metadata": {},
   "source": [
    "and now when we load the dataset, we need to add these filters to it:"
   ]
  },
  {
   "cell_type": "code",
   "execution_count": null,
   "metadata": {},
   "outputs": [],
   "source": [
    "ds = yt.load(\"Data_000000\")\n",
    "ds.add_particle_filter(\"dm\")\n",
    "ds.add_particle_filter(\"star\")"
   ]
  },
  {
   "cell_type": "markdown",
   "metadata": {},
   "source": [
    "## Special Fields\n",
    "\n",
    "The `ClusterMerger` problem has up to four passive scalars: a metal field to track metals, and 1-3 \"color\" fields to track the gas from each cluster. The fields in GAMER have units of density, so if you want to look at the fractional fields, create derived fields dividing by density:"
   ]
  },
  {
   "cell_type": "code",
   "execution_count": null,
   "metadata": {},
   "outputs": [],
   "source": [
    "def _metals(field, data):\n",
    "    return data[\"gamer\", \"Metal\"]/data[\"gamer\", \"Dens\"].d\n",
    "ds.add_field((\"gas\",\"metals\"), _metals, units=\"\", sampling_type=\"grid\", force_override=True)\n",
    "def _cluster1(field, data):\n",
    "    return data[\"gamer\", \"ColorField1\"]/data[\"gamer\", \"Dens\"].d\n",
    "ds.add_field((\"gas\",\"cluster1\"), _cluster1, units=\"\", sampling_type=\"grid\", force_override=True)\n",
    "def _cluster2(field, data):\n",
    "    return data[\"gamer\", \"ColorField2\"]/data[\"gamer\", \"Dens\"].d\n",
    "ds.add_field((\"gas\",\"cluster2\"), _cluster2, units=\"\", sampling_type=\"grid\", force_override=True)"
   ]
  },
  {
   "cell_type": "markdown",
   "metadata": {},
   "source": [
    "Now we can plot these fields up, as well as other important fields:"
   ]
  },
  {
   "cell_type": "code",
   "execution_count": null,
   "metadata": {},
   "outputs": [],
   "source": [
    "slc = yt.SlicePlot(ds, \"z\", [\"density\", \"kT\", \"magnetic_field_strength\",\n",
    "                             (\"gas\", \"cluster2\"), (\"gas\", \"metals\"), (\"gas\", \"cluster1\")],\n",
    "                   width=(6.0,\"Mpc\"))\n",
    "slc.set_log(\"cluster1\", False)\n",
    "slc.set_log(\"cluster2\", False)"
   ]
  },
  {
   "cell_type": "markdown",
   "metadata": {},
   "source": [
    "## Plotting Different Particle Types\n",
    "\n",
    "Now we can show how the two different particle types are distributed. To plot all of the particles:"
   ]
  },
  {
   "cell_type": "code",
   "execution_count": null,
   "metadata": {},
   "outputs": [],
   "source": [
    "p_all = yt.ParticlePlot(ds, (\"io\",\"particle_position_x\"), (\"io\",\"particle_position_y\"), \n",
    "                        z_fields=(\"io\",\"particle_mass\"), width=(6.0,\"Mpc\"))\n",
    "p_all.show()"
   ]
  },
  {
   "cell_type": "markdown",
   "metadata": {},
   "source": [
    "and plot the DM particles:"
   ]
  },
  {
   "cell_type": "code",
   "execution_count": null,
   "metadata": {},
   "outputs": [],
   "source": [
    "p_dm = yt.ParticlePlot(ds, (\"dm\",\"particle_position_x\"), (\"dm\",\"particle_position_y\"), \n",
    "                       z_fields=(\"dm\",\"particle_mass\"), width=(6.0,\"Mpc\"))\n",
    "p_dm.show()"
   ]
  },
  {
   "cell_type": "markdown",
   "metadata": {},
   "source": [
    "and finally, the star particles:"
   ]
  },
  {
   "cell_type": "code",
   "execution_count": null,
   "metadata": {},
   "outputs": [],
   "source": [
    "p_star = yt.ParticlePlot(ds, (\"star\",\"particle_position_x\"), (\"star\",\"particle_position_y\"), \n",
    "                         z_fields=(\"star\",\"particle_mass\"), width=(6.0,\"Mpc\"))\n",
    "p_star.show()"
   ]
  }
 ],
 "metadata": {
  "kernelspec": {
   "display_name": "Python 3",
   "language": "python",
   "name": "python3"
  },
  "language_info": {
   "codemirror_mode": {
    "name": "ipython",
    "version": 3
   },
   "file_extension": ".py",
   "mimetype": "text/x-python",
   "name": "python",
   "nbconvert_exporter": "python",
   "pygments_lexer": "ipython3",
   "version": "3.9.0"
  }
 },
 "nbformat": 4,
 "nbformat_minor": 4
}